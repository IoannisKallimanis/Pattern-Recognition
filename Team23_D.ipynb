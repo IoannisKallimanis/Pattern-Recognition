{
  "cells": [
    {
      "cell_type": "markdown",
      "source": [
        "**Ομάδα 23**"
      ],
      "metadata": {
        "id": "bd6T_5GYQURj"
      }
    },
    {
      "cell_type": "markdown",
      "source": [
        "Νοταράς Ευάγγελος\\\n",
        "10084\\\n",
        "enotaras@ece.auth.gr\\\n",
        "\\\n",
        "Καλλιμάνης Ιωάννης\\\n",
        "10007\\\n",
        "ikallima@ece.auth.gr"
      ],
      "metadata": {
        "id": "KWxzx7Pqc2IN"
      }
    },
    {
      "cell_type": "markdown",
      "source": [],
      "metadata": {
        "id": "j8t-afqYczXy"
      }
    },
    {
      "cell_type": "code",
      "source": [
        "from google.colab import files\n",
        "\n",
        "# Upload the datasetC file\n",
        "uploaded = files.upload()"
      ],
      "metadata": {
        "id": "79zW67XnQlH4",
        "colab": {
          "base_uri": "https://localhost:8080/",
          "height": 74
        },
        "outputId": "0cb5fa0d-f6ac-428d-fd0f-20c45980df26"
      },
      "execution_count": 1,
      "outputs": [
        {
          "output_type": "display_data",
          "data": {
            "text/plain": [
              "<IPython.core.display.HTML object>"
            ],
            "text/html": [
              "\n",
              "     <input type=\"file\" id=\"files-2446480d-394e-4bcf-9a22-2a537460bc6b\" name=\"files[]\" multiple disabled\n",
              "        style=\"border:none\" />\n",
              "     <output id=\"result-2446480d-394e-4bcf-9a22-2a537460bc6b\">\n",
              "      Upload widget is only available when the cell has been executed in the\n",
              "      current browser session. Please rerun this cell to enable.\n",
              "      </output>\n",
              "      <script>// Copyright 2017 Google LLC\n",
              "//\n",
              "// Licensed under the Apache License, Version 2.0 (the \"License\");\n",
              "// you may not use this file except in compliance with the License.\n",
              "// You may obtain a copy of the License at\n",
              "//\n",
              "//      http://www.apache.org/licenses/LICENSE-2.0\n",
              "//\n",
              "// Unless required by applicable law or agreed to in writing, software\n",
              "// distributed under the License is distributed on an \"AS IS\" BASIS,\n",
              "// WITHOUT WARRANTIES OR CONDITIONS OF ANY KIND, either express or implied.\n",
              "// See the License for the specific language governing permissions and\n",
              "// limitations under the License.\n",
              "\n",
              "/**\n",
              " * @fileoverview Helpers for google.colab Python module.\n",
              " */\n",
              "(function(scope) {\n",
              "function span(text, styleAttributes = {}) {\n",
              "  const element = document.createElement('span');\n",
              "  element.textContent = text;\n",
              "  for (const key of Object.keys(styleAttributes)) {\n",
              "    element.style[key] = styleAttributes[key];\n",
              "  }\n",
              "  return element;\n",
              "}\n",
              "\n",
              "// Max number of bytes which will be uploaded at a time.\n",
              "const MAX_PAYLOAD_SIZE = 100 * 1024;\n",
              "\n",
              "function _uploadFiles(inputId, outputId) {\n",
              "  const steps = uploadFilesStep(inputId, outputId);\n",
              "  const outputElement = document.getElementById(outputId);\n",
              "  // Cache steps on the outputElement to make it available for the next call\n",
              "  // to uploadFilesContinue from Python.\n",
              "  outputElement.steps = steps;\n",
              "\n",
              "  return _uploadFilesContinue(outputId);\n",
              "}\n",
              "\n",
              "// This is roughly an async generator (not supported in the browser yet),\n",
              "// where there are multiple asynchronous steps and the Python side is going\n",
              "// to poll for completion of each step.\n",
              "// This uses a Promise to block the python side on completion of each step,\n",
              "// then passes the result of the previous step as the input to the next step.\n",
              "function _uploadFilesContinue(outputId) {\n",
              "  const outputElement = document.getElementById(outputId);\n",
              "  const steps = outputElement.steps;\n",
              "\n",
              "  const next = steps.next(outputElement.lastPromiseValue);\n",
              "  return Promise.resolve(next.value.promise).then((value) => {\n",
              "    // Cache the last promise value to make it available to the next\n",
              "    // step of the generator.\n",
              "    outputElement.lastPromiseValue = value;\n",
              "    return next.value.response;\n",
              "  });\n",
              "}\n",
              "\n",
              "/**\n",
              " * Generator function which is called between each async step of the upload\n",
              " * process.\n",
              " * @param {string} inputId Element ID of the input file picker element.\n",
              " * @param {string} outputId Element ID of the output display.\n",
              " * @return {!Iterable<!Object>} Iterable of next steps.\n",
              " */\n",
              "function* uploadFilesStep(inputId, outputId) {\n",
              "  const inputElement = document.getElementById(inputId);\n",
              "  inputElement.disabled = false;\n",
              "\n",
              "  const outputElement = document.getElementById(outputId);\n",
              "  outputElement.innerHTML = '';\n",
              "\n",
              "  const pickedPromise = new Promise((resolve) => {\n",
              "    inputElement.addEventListener('change', (e) => {\n",
              "      resolve(e.target.files);\n",
              "    });\n",
              "  });\n",
              "\n",
              "  const cancel = document.createElement('button');\n",
              "  inputElement.parentElement.appendChild(cancel);\n",
              "  cancel.textContent = 'Cancel upload';\n",
              "  const cancelPromise = new Promise((resolve) => {\n",
              "    cancel.onclick = () => {\n",
              "      resolve(null);\n",
              "    };\n",
              "  });\n",
              "\n",
              "  // Wait for the user to pick the files.\n",
              "  const files = yield {\n",
              "    promise: Promise.race([pickedPromise, cancelPromise]),\n",
              "    response: {\n",
              "      action: 'starting',\n",
              "    }\n",
              "  };\n",
              "\n",
              "  cancel.remove();\n",
              "\n",
              "  // Disable the input element since further picks are not allowed.\n",
              "  inputElement.disabled = true;\n",
              "\n",
              "  if (!files) {\n",
              "    return {\n",
              "      response: {\n",
              "        action: 'complete',\n",
              "      }\n",
              "    };\n",
              "  }\n",
              "\n",
              "  for (const file of files) {\n",
              "    const li = document.createElement('li');\n",
              "    li.append(span(file.name, {fontWeight: 'bold'}));\n",
              "    li.append(span(\n",
              "        `(${file.type || 'n/a'}) - ${file.size} bytes, ` +\n",
              "        `last modified: ${\n",
              "            file.lastModifiedDate ? file.lastModifiedDate.toLocaleDateString() :\n",
              "                                    'n/a'} - `));\n",
              "    const percent = span('0% done');\n",
              "    li.appendChild(percent);\n",
              "\n",
              "    outputElement.appendChild(li);\n",
              "\n",
              "    const fileDataPromise = new Promise((resolve) => {\n",
              "      const reader = new FileReader();\n",
              "      reader.onload = (e) => {\n",
              "        resolve(e.target.result);\n",
              "      };\n",
              "      reader.readAsArrayBuffer(file);\n",
              "    });\n",
              "    // Wait for the data to be ready.\n",
              "    let fileData = yield {\n",
              "      promise: fileDataPromise,\n",
              "      response: {\n",
              "        action: 'continue',\n",
              "      }\n",
              "    };\n",
              "\n",
              "    // Use a chunked sending to avoid message size limits. See b/62115660.\n",
              "    let position = 0;\n",
              "    do {\n",
              "      const length = Math.min(fileData.byteLength - position, MAX_PAYLOAD_SIZE);\n",
              "      const chunk = new Uint8Array(fileData, position, length);\n",
              "      position += length;\n",
              "\n",
              "      const base64 = btoa(String.fromCharCode.apply(null, chunk));\n",
              "      yield {\n",
              "        response: {\n",
              "          action: 'append',\n",
              "          file: file.name,\n",
              "          data: base64,\n",
              "        },\n",
              "      };\n",
              "\n",
              "      let percentDone = fileData.byteLength === 0 ?\n",
              "          100 :\n",
              "          Math.round((position / fileData.byteLength) * 100);\n",
              "      percent.textContent = `${percentDone}% done`;\n",
              "\n",
              "    } while (position < fileData.byteLength);\n",
              "  }\n",
              "\n",
              "  // All done.\n",
              "  yield {\n",
              "    response: {\n",
              "      action: 'complete',\n",
              "    }\n",
              "  };\n",
              "}\n",
              "\n",
              "scope.google = scope.google || {};\n",
              "scope.google.colab = scope.google.colab || {};\n",
              "scope.google.colab._files = {\n",
              "  _uploadFiles,\n",
              "  _uploadFilesContinue,\n",
              "};\n",
              "})(self);\n",
              "</script> "
            ]
          },
          "metadata": {}
        },
        {
          "output_type": "stream",
          "name": "stdout",
          "text": [
            "Saving datasetC.csv to datasetC.csv\n"
          ]
        }
      ]
    },
    {
      "cell_type": "code",
      "source": [
        "from google.colab import files\n",
        "\n",
        "# Upload the datasetCTest file\n",
        "uploaded = files.upload()"
      ],
      "metadata": {
        "id": "SzoFsiCJcsYp",
        "colab": {
          "base_uri": "https://localhost:8080/",
          "height": 74
        },
        "outputId": "6013c570-da6b-4f87-d913-2354688e0573"
      },
      "execution_count": 2,
      "outputs": [
        {
          "output_type": "display_data",
          "data": {
            "text/plain": [
              "<IPython.core.display.HTML object>"
            ],
            "text/html": [
              "\n",
              "     <input type=\"file\" id=\"files-ef4e3484-faaa-425c-8317-57d7fb309758\" name=\"files[]\" multiple disabled\n",
              "        style=\"border:none\" />\n",
              "     <output id=\"result-ef4e3484-faaa-425c-8317-57d7fb309758\">\n",
              "      Upload widget is only available when the cell has been executed in the\n",
              "      current browser session. Please rerun this cell to enable.\n",
              "      </output>\n",
              "      <script>// Copyright 2017 Google LLC\n",
              "//\n",
              "// Licensed under the Apache License, Version 2.0 (the \"License\");\n",
              "// you may not use this file except in compliance with the License.\n",
              "// You may obtain a copy of the License at\n",
              "//\n",
              "//      http://www.apache.org/licenses/LICENSE-2.0\n",
              "//\n",
              "// Unless required by applicable law or agreed to in writing, software\n",
              "// distributed under the License is distributed on an \"AS IS\" BASIS,\n",
              "// WITHOUT WARRANTIES OR CONDITIONS OF ANY KIND, either express or implied.\n",
              "// See the License for the specific language governing permissions and\n",
              "// limitations under the License.\n",
              "\n",
              "/**\n",
              " * @fileoverview Helpers for google.colab Python module.\n",
              " */\n",
              "(function(scope) {\n",
              "function span(text, styleAttributes = {}) {\n",
              "  const element = document.createElement('span');\n",
              "  element.textContent = text;\n",
              "  for (const key of Object.keys(styleAttributes)) {\n",
              "    element.style[key] = styleAttributes[key];\n",
              "  }\n",
              "  return element;\n",
              "}\n",
              "\n",
              "// Max number of bytes which will be uploaded at a time.\n",
              "const MAX_PAYLOAD_SIZE = 100 * 1024;\n",
              "\n",
              "function _uploadFiles(inputId, outputId) {\n",
              "  const steps = uploadFilesStep(inputId, outputId);\n",
              "  const outputElement = document.getElementById(outputId);\n",
              "  // Cache steps on the outputElement to make it available for the next call\n",
              "  // to uploadFilesContinue from Python.\n",
              "  outputElement.steps = steps;\n",
              "\n",
              "  return _uploadFilesContinue(outputId);\n",
              "}\n",
              "\n",
              "// This is roughly an async generator (not supported in the browser yet),\n",
              "// where there are multiple asynchronous steps and the Python side is going\n",
              "// to poll for completion of each step.\n",
              "// This uses a Promise to block the python side on completion of each step,\n",
              "// then passes the result of the previous step as the input to the next step.\n",
              "function _uploadFilesContinue(outputId) {\n",
              "  const outputElement = document.getElementById(outputId);\n",
              "  const steps = outputElement.steps;\n",
              "\n",
              "  const next = steps.next(outputElement.lastPromiseValue);\n",
              "  return Promise.resolve(next.value.promise).then((value) => {\n",
              "    // Cache the last promise value to make it available to the next\n",
              "    // step of the generator.\n",
              "    outputElement.lastPromiseValue = value;\n",
              "    return next.value.response;\n",
              "  });\n",
              "}\n",
              "\n",
              "/**\n",
              " * Generator function which is called between each async step of the upload\n",
              " * process.\n",
              " * @param {string} inputId Element ID of the input file picker element.\n",
              " * @param {string} outputId Element ID of the output display.\n",
              " * @return {!Iterable<!Object>} Iterable of next steps.\n",
              " */\n",
              "function* uploadFilesStep(inputId, outputId) {\n",
              "  const inputElement = document.getElementById(inputId);\n",
              "  inputElement.disabled = false;\n",
              "\n",
              "  const outputElement = document.getElementById(outputId);\n",
              "  outputElement.innerHTML = '';\n",
              "\n",
              "  const pickedPromise = new Promise((resolve) => {\n",
              "    inputElement.addEventListener('change', (e) => {\n",
              "      resolve(e.target.files);\n",
              "    });\n",
              "  });\n",
              "\n",
              "  const cancel = document.createElement('button');\n",
              "  inputElement.parentElement.appendChild(cancel);\n",
              "  cancel.textContent = 'Cancel upload';\n",
              "  const cancelPromise = new Promise((resolve) => {\n",
              "    cancel.onclick = () => {\n",
              "      resolve(null);\n",
              "    };\n",
              "  });\n",
              "\n",
              "  // Wait for the user to pick the files.\n",
              "  const files = yield {\n",
              "    promise: Promise.race([pickedPromise, cancelPromise]),\n",
              "    response: {\n",
              "      action: 'starting',\n",
              "    }\n",
              "  };\n",
              "\n",
              "  cancel.remove();\n",
              "\n",
              "  // Disable the input element since further picks are not allowed.\n",
              "  inputElement.disabled = true;\n",
              "\n",
              "  if (!files) {\n",
              "    return {\n",
              "      response: {\n",
              "        action: 'complete',\n",
              "      }\n",
              "    };\n",
              "  }\n",
              "\n",
              "  for (const file of files) {\n",
              "    const li = document.createElement('li');\n",
              "    li.append(span(file.name, {fontWeight: 'bold'}));\n",
              "    li.append(span(\n",
              "        `(${file.type || 'n/a'}) - ${file.size} bytes, ` +\n",
              "        `last modified: ${\n",
              "            file.lastModifiedDate ? file.lastModifiedDate.toLocaleDateString() :\n",
              "                                    'n/a'} - `));\n",
              "    const percent = span('0% done');\n",
              "    li.appendChild(percent);\n",
              "\n",
              "    outputElement.appendChild(li);\n",
              "\n",
              "    const fileDataPromise = new Promise((resolve) => {\n",
              "      const reader = new FileReader();\n",
              "      reader.onload = (e) => {\n",
              "        resolve(e.target.result);\n",
              "      };\n",
              "      reader.readAsArrayBuffer(file);\n",
              "    });\n",
              "    // Wait for the data to be ready.\n",
              "    let fileData = yield {\n",
              "      promise: fileDataPromise,\n",
              "      response: {\n",
              "        action: 'continue',\n",
              "      }\n",
              "    };\n",
              "\n",
              "    // Use a chunked sending to avoid message size limits. See b/62115660.\n",
              "    let position = 0;\n",
              "    do {\n",
              "      const length = Math.min(fileData.byteLength - position, MAX_PAYLOAD_SIZE);\n",
              "      const chunk = new Uint8Array(fileData, position, length);\n",
              "      position += length;\n",
              "\n",
              "      const base64 = btoa(String.fromCharCode.apply(null, chunk));\n",
              "      yield {\n",
              "        response: {\n",
              "          action: 'append',\n",
              "          file: file.name,\n",
              "          data: base64,\n",
              "        },\n",
              "      };\n",
              "\n",
              "      let percentDone = fileData.byteLength === 0 ?\n",
              "          100 :\n",
              "          Math.round((position / fileData.byteLength) * 100);\n",
              "      percent.textContent = `${percentDone}% done`;\n",
              "\n",
              "    } while (position < fileData.byteLength);\n",
              "  }\n",
              "\n",
              "  // All done.\n",
              "  yield {\n",
              "    response: {\n",
              "      action: 'complete',\n",
              "    }\n",
              "  };\n",
              "}\n",
              "\n",
              "scope.google = scope.google || {};\n",
              "scope.google.colab = scope.google.colab || {};\n",
              "scope.google.colab._files = {\n",
              "  _uploadFiles,\n",
              "  _uploadFilesContinue,\n",
              "};\n",
              "})(self);\n",
              "</script> "
            ]
          },
          "metadata": {}
        },
        {
          "output_type": "stream",
          "name": "stdout",
          "text": [
            "Saving datasetCTest.csv to datasetCTest.csv\n"
          ]
        }
      ]
    },
    {
      "cell_type": "code",
      "execution_count": 3,
      "metadata": {
        "id": "o4uUCg0OVq79"
      },
      "outputs": [],
      "source": [
        "import pandas as pd\n",
        "import seaborn as sns\n",
        "import matplotlib.pyplot as plt\n",
        "import numpy as np\n",
        "from sklearn.metrics import accuracy_score\n",
        "from sklearn.model_selection import train_test_split\n",
        "from sklearn.svm import SVC\n",
        "from sklearn.model_selection import GridSearchCV\n",
        "from sklearn.neighbors import KNeighborsClassifier\n",
        "from datetime import datetime"
      ]
    },
    {
      "cell_type": "markdown",
      "metadata": {
        "id": "1sH6jGPR3_e9"
      },
      "source": [
        "# Testing"
      ]
    },
    {
      "cell_type": "markdown",
      "source": [
        "Load Dataset"
      ],
      "metadata": {
        "id": "5bGCkmMS2PBF"
      }
    },
    {
      "cell_type": "code",
      "execution_count": null,
      "metadata": {
        "id": "wwyqd3VXUc0j"
      },
      "outputs": [],
      "source": [
        "file_path_train = 'datasetC.csv'\n",
        "\n",
        "df = pd.read_csv(file_path_train,  header=None, dtype='float64')\n",
        "\n",
        "X = df.iloc[:, :-1].values  # Features\n",
        "y = df.iloc[:, -1]   # Labels\n",
        "X_train, X_test, y_train, y_test = train_test_split(X, y, test_size=0.3, shuffle=True, random_state=42)"
      ]
    },
    {
      "cell_type": "markdown",
      "metadata": {
        "id": "jmCPJpzMs3cw"
      },
      "source": [
        "Προσέγγιση 1: RBF SVM\n",
        "\n",
        "---\n",
        "\n"
      ]
    },
    {
      "cell_type": "markdown",
      "source": [
        "Tuning RBF SVM"
      ],
      "metadata": {
        "id": "2o6LB0Sy354H"
      }
    },
    {
      "cell_type": "code",
      "execution_count": null,
      "metadata": {
        "id": "-cMUyIxwszz2"
      },
      "outputs": [],
      "source": [
        "C_values = np.linspace(0.1, 100, 50)\n",
        "gamma_values = ['scale', 'auto']\n",
        "param_grid = dict(gamma=gamma_values, C=C_values)\n",
        "\n",
        "\n",
        "grid = GridSearchCV(SVC(kernel='rbf'), param_grid,  refit=True, verbose=2, return_train_score=True)\n",
        "grid.fit(X_train, y_train)\n",
        "print('Best parameters after grid-search:')\n",
        "print(grid.best_params_)\n",
        "print('Best mean CV score: ', grid.best_score_)"
      ]
    },
    {
      "cell_type": "markdown",
      "source": [
        "Δοκιμή στο tuned RBF SVM"
      ],
      "metadata": {
        "id": "x51Z2IUC4aT7"
      }
    },
    {
      "cell_type": "code",
      "execution_count": null,
      "metadata": {
        "id": "uTZtMUumtBeY"
      },
      "outputs": [],
      "source": [
        "svm_lin_model = SVC(kernel='rbf', C=10, gamma='scale')\n",
        "svm_lin_model.fit(X_train, y_train)\n",
        "y_pred = svm_lin_model.predict(X_test)\n",
        "accuracy = accuracy_score(y_test, y_pred)\n",
        "print('RBF SVM')\n",
        "print(\"Accuracy:\", accuracy)"
      ]
    },
    {
      "cell_type": "markdown",
      "metadata": {
        "id": "yz-5pD8ity2q"
      },
      "source": [
        "Προσέγγιση 2: Random Forests\n",
        "\n",
        "---\n",
        "\n"
      ]
    },
    {
      "cell_type": "code",
      "execution_count": null,
      "metadata": {
        "id": "Qt71zaKturK2"
      },
      "outputs": [],
      "source": [
        "from sklearn.ensemble import RandomForestClassifier\n",
        "\"\"\"\n",
        "maxdepth={'max_depth': [5,10, 15,20,25],\n",
        "          'min_samples_split': [1, 2, 3, 4, 5, 6],\n",
        "          'min_samples_leaf': [1, 2, 3, 4, 5, 6]}\n",
        "grid = GridSearchCV(RandomForestClassifier(n_estimators=300), maxdepth,  refit=True, verbose=2, return_train_score=True)\n",
        "grid.fit(X_train, y_train)\n",
        "print('Best parameters after grid-search:')\n",
        "print(grid.best_params_)\n",
        "print('Best mean CV score: ', grid.best_score_)\n",
        "\"\"\"\n"
      ]
    },
    {
      "cell_type": "code",
      "execution_count": null,
      "metadata": {
        "id": "JVZFJijruw6r"
      },
      "outputs": [],
      "source": [
        "rf_classifier = RandomForestClassifier(n_estimators=500, max_depth=25, min_samples_leaf=5, min_samples_split=2, random_state=42)\n",
        "rf_classifier.fit(X_train, y_train)\n",
        "\n",
        "y_pred = rf_classifier.predict(X_test)\n",
        "\n",
        "accuracy = accuracy_score(y_test, y_pred)\n",
        "print('Random Forests')\n",
        "print(\"Accuracy:\", accuracy)"
      ]
    },
    {
      "cell_type": "markdown",
      "metadata": {
        "id": "c5sRNtFT8ahp"
      },
      "source": [
        "Προσέγγιση 3: ΚΝΝ\n",
        "\n",
        "---\n",
        "\n"
      ]
    },
    {
      "cell_type": "code",
      "execution_count": null,
      "metadata": {
        "id": "S_WlrGgN0OzP"
      },
      "outputs": [],
      "source": [
        "for k in range(5, 30):\n",
        "    print(\"k=\", k)\n",
        "    model = KNeighborsClassifier(n_neighbors=k)\n",
        "    model.fit(X_train, y_train)\n",
        "    y_pred = model.predict(X_test)\n",
        "\n",
        "    accuracy = accuracy_score(y_test, y_pred)\n",
        "    print(\"Accuracy:\", accuracy)"
      ]
    },
    {
      "cell_type": "markdown",
      "metadata": {
        "id": "m4GJBVFAAmqo"
      },
      "source": [
        "Dimention Reduction with Random Forest\n",
        "\n",
        "---\n",
        "\n"
      ]
    },
    {
      "cell_type": "markdown",
      "source": [
        "Εκτυπώνουμε την σημαντικότητα σύμφωνα με το random forest"
      ],
      "metadata": {
        "id": "tgaJg_Sn8pMw"
      }
    },
    {
      "cell_type": "code",
      "execution_count": null,
      "metadata": {
        "id": "DuFi-FwGVjaQ"
      },
      "outputs": [],
      "source": [
        "model = RandomForestClassifier()\n",
        "model.fit(X_train, y_train)\n",
        "\n",
        "# Access feature importances\n",
        "feature_importances = model.feature_importances_\n",
        "\n",
        "# Create a dataframe to display feature importances\n",
        "feature_importance_df = pd.DataFrame({'Feature': range(len(X[0])), 'Importance': feature_importances})\n",
        "\n",
        "# Sort features by importance in descending order\n",
        "feature_importance_df = feature_importance_df.sort_values(by='Importance', ascending=False)\n",
        "\n",
        "# Plot feature importances\n",
        "plt.figure(figsize=(10, 6))\n",
        "plt.bar(range(len(feature_importances)), feature_importances, tick_label=range(len(X[0])))\n",
        "plt.xlabel('Features')\n",
        "plt.ylabel('Importance')\n",
        "plt.title('Feature Importances from Random Forest')\n",
        "plt.xticks(rotation=90)\n",
        "plt.show()"
      ]
    },
    {
      "cell_type": "markdown",
      "source": [
        "Με βάση το παραπάνω διάγραμμα, ρυθμίζω το thresshold για να μειώσω τις διαστάσεις"
      ],
      "metadata": {
        "id": "USU9cJqc88Nz"
      }
    },
    {
      "cell_type": "code",
      "execution_count": null,
      "metadata": {
        "id": "tBWYvezN_gaw"
      },
      "outputs": [],
      "source": [
        "from sklearn.feature_selection import SelectFromModel\n",
        "\n",
        "threshold = 0.0018\n",
        "sfm = SelectFromModel(model, threshold=threshold)\n",
        "\n",
        "X_train_selected = sfm.transform(X_train)\n",
        "X_test_selected = sfm.transform(X_test)\n",
        "print(\"Before reduction\")\n",
        "print(np.shape(X_train))\n",
        "print(\"After reduction\")\n",
        "print(np.shape(X_train_selected))"
      ]
    },
    {
      "cell_type": "markdown",
      "source": [
        "RBF SVM με dimention reduction\n",
        "\n",
        "---\n",
        "\n"
      ],
      "metadata": {
        "id": "9AU2JvVs9j3t"
      }
    },
    {
      "cell_type": "code",
      "execution_count": null,
      "metadata": {
        "id": "gj8663GMEjui"
      },
      "outputs": [],
      "source": [
        "C_values = np.linspace(0.1, 50, 100)\n",
        "gamma_values = ['scale', 'auto']\n",
        "param_grid = dict(gamma=gamma_values, C=C_values)\n",
        "\n",
        "\n",
        "grid = GridSearchCV(SVC(kernel='rbf'), param_grid,  refit=True, cv=8, verbose=2, return_train_score=True)\n",
        "grid.fit(X_train_selected, y_train)\n",
        "print('Best parameters after grid-search:')\n",
        "print(grid.best_params_)\n",
        "print('Best mean CV score: ', grid.best_score_)"
      ]
    },
    {
      "cell_type": "code",
      "execution_count": null,
      "metadata": {
        "id": "5m-TptWhAjsM"
      },
      "outputs": [],
      "source": [
        "svm_rbf_model = SVC(kernel='rbf', C=10, gamma='scale')\n",
        "svm_rbf_model.fit(X_train_selected, y_train)\n",
        "y_pred = svm_rbf_model.predict(X_test_selected)\n",
        "accuracy = accuracy_score(y_test, y_pred)\n",
        "print('RBF SVM')\n",
        "print(\"Accuracy:\", accuracy)"
      ]
    },
    {
      "cell_type": "markdown",
      "metadata": {
        "id": "zOF4eFAs4Ec2"
      },
      "source": [
        "# Final Model"
      ]
    },
    {
      "cell_type": "code",
      "execution_count": 4,
      "metadata": {
        "id": "_ZbN_V7zl957"
      },
      "outputs": [],
      "source": [
        "import torch\n",
        "import torch.nn as nn\n",
        "import torch.optim as optim\n",
        "from sklearn.preprocessing import LabelEncoder\n",
        "from torchvision import models, transforms\n",
        "from torchvision.models import vision_transformer\n",
        "from torch.utils.data import DataLoader, TensorDataset\n",
        "import torch.nn.functional as F"
      ]
    },
    {
      "cell_type": "markdown",
      "metadata": {
        "id": "KT-PgVKDZTZm"
      },
      "source": [
        "Load Dataset"
      ]
    },
    {
      "cell_type": "code",
      "execution_count": 5,
      "metadata": {
        "id": "OMBa4T2CrPtC"
      },
      "outputs": [],
      "source": [
        "dataset_path = \"datasetC.csv\"\n",
        "dataset_path_test = 'datasetCTest.csv'\n",
        "\n",
        "df = pd.read_csv(dataset_path, header=None)\n",
        "df_test = pd.read_csv(dataset_path_test, header=None)"
      ]
    },
    {
      "cell_type": "code",
      "execution_count": 6,
      "metadata": {
        "id": "umZmxqAFrRnL"
      },
      "outputs": [],
      "source": [
        "X_train = df.iloc[:, :-1].values  # Features\n",
        "y_train = df.iloc[:, -1].values   # Labels\n",
        "\n",
        "X_test = df_test.values  # Test Features"
      ]
    },
    {
      "cell_type": "markdown",
      "metadata": {
        "id": "EYMFOMkcZeyR"
      },
      "source": [
        "Split Data and create Dataloaders"
      ]
    },
    {
      "cell_type": "code",
      "execution_count": 7,
      "metadata": {
        "colab": {
          "base_uri": "https://localhost:8080/"
        },
        "id": "rk-ozbPhrdA1",
        "outputId": "592e148f-6612-4c16-cb58-580a23238fe8"
      },
      "outputs": [
        {
          "output_type": "stream",
          "name": "stdout",
          "text": [
            "cuda\n"
          ]
        }
      ],
      "source": [
        "#X_train, X_test, y_train, y_test = train_test_split(X, y, test_size=0.3, random_state=16)\n",
        "\n",
        "label_encoder = LabelEncoder()\n",
        "y_train_encoded = label_encoder.fit_transform(y_train)\n",
        "#y_test_encoded = label_encoder.transform(y_test)\n",
        "\n",
        "device = torch.device(\"cuda\" if torch.cuda.is_available() else \"cpu\")\n",
        "print(device)\n",
        "\n",
        "X_train_tensor = torch.tensor(X_train, dtype=torch.float32).to(device)\n",
        "y_train_tensor = torch.tensor(y_train_encoded).to(device)\n",
        "X_test_tensor = torch.tensor(X_test, dtype=torch.float32).to(device)\n",
        "#y_test_tensor = torch.tensor(y_test_encoded).to(device)\n",
        "\n",
        "\n",
        "input_size = 20\n",
        "X_train_tensor = X_train_tensor.view(-1, 1, input_size, input_size)\n",
        "X_test_tensor = X_test_tensor.view(-1, 1, input_size, input_size)\n",
        "\n",
        "num_classes = len(np.unique(y_train))"
      ]
    },
    {
      "cell_type": "code",
      "execution_count": 8,
      "metadata": {
        "id": "ZCR_GwmArjgA"
      },
      "outputs": [],
      "source": [
        "train_loader = DataLoader(TensorDataset(X_train_tensor, y_train_tensor), batch_size=32, shuffle=True)\n",
        "#test_loader = DataLoader(TensorDataset(X_test_tensor, y_test_tensor), batch_size=32, shuffle=False)\n",
        "test_loader = DataLoader(TensorDataset(X_test_tensor), batch_size=32, shuffle=False)"
      ]
    },
    {
      "cell_type": "markdown",
      "source": [
        "The CNN model that is going to be used"
      ],
      "metadata": {
        "id": "LTKReMUMTx3b"
      }
    },
    {
      "cell_type": "code",
      "execution_count": 9,
      "metadata": {
        "id": "QVeF9qDxCwOK"
      },
      "outputs": [],
      "source": [
        "class SimpleCNN(nn.Module):\n",
        "    def __init__(self, hidden_size1, hidden_size2, hidden_size3, drop1, drop2):\n",
        "        \"\"\"\n",
        "        CNN Model Implementation\n",
        "\n",
        "        Parameters:\n",
        "        - hidden_size1, hidden_size2, hidden_size3 (int): Number of neurons in the hidden layers.\n",
        "        - drop1, drop2 (float): Dropout rate in the hidden layers\n",
        "        \"\"\"\n",
        "        super(SimpleCNN, self).__init__()\n",
        "\n",
        "        self.features = nn.Sequential(\n",
        "          nn.Conv2d(1, 64, kernel_size=3, stride=1, padding=1),\n",
        "          nn.ReLU(),\n",
        "          nn.Conv2d(64, 64, kernel_size=3, stride=1, padding=1),\n",
        "          nn.ReLU(),\n",
        "          nn.MaxPool2d(kernel_size=2, stride=2),\n",
        "\n",
        "          nn.Conv2d(64, 128, kernel_size=3, stride=1, padding=1),\n",
        "          nn.ReLU(),\n",
        "          nn.Conv2d(128, 128, kernel_size=3, stride=1, padding=1),\n",
        "          nn.ReLU(),\n",
        "          nn.Conv2d(128, 128, kernel_size=3, stride=1, padding=1),\n",
        "          nn.ReLU(),\n",
        "          nn.MaxPool2d(kernel_size=2, stride=2)\n",
        "        )\n",
        "\n",
        "        self.dense_layers = nn.Sequential(\n",
        "            nn.Dropout(drop1),\n",
        "            nn.Linear(3200, hidden_size1),\n",
        "            nn.BatchNorm1d(hidden_size1),\n",
        "            nn.ReLU(),\n",
        "            nn.Dropout(drop2),\n",
        "            nn.Linear(hidden_size1, hidden_size2),\n",
        "            nn.BatchNorm1d(hidden_size2),\n",
        "            nn.ReLU(),\n",
        "            nn.Linear(hidden_size2, hidden_size3),\n",
        "            nn.BatchNorm1d(hidden_size3),\n",
        "            nn.ReLU(),\n",
        "            nn.Linear(hidden_size3, 5)\n",
        "        )\n",
        "\n",
        "    def forward(self, x):\n",
        "        x = self.features(x)\n",
        "        x = x.view(x.size(0), -1)\n",
        "        x = self.dense_layers(x)\n",
        "        return x"
      ]
    },
    {
      "cell_type": "code",
      "source": [
        "# Define model\n",
        "model = SimpleCNN(hidden_size1=256, hidden_size2=512, hidden_size3=128, drop1=0.2, drop2=0.2)\n",
        "model = model.to(device)\n",
        "\n",
        "# Define optimizer, loss function, and learning rate scheduler\n",
        "optimizer = optim.Adam(model.parameters(), lr=0.001)\n",
        "criterion = nn.CrossEntropyLoss()\n",
        "scheduler = optim.lr_scheduler.ReduceLROnPlateau(optimizer, patience=5, factor=0.2, min_lr=1e-7, verbose=False)"
      ],
      "metadata": {
        "id": "HZFfa4Uvzuts"
      },
      "execution_count": null,
      "outputs": []
    },
    {
      "cell_type": "markdown",
      "source": [
        "# Training Process"
      ],
      "metadata": {
        "id": "2j-d08SN86fq"
      }
    },
    {
      "cell_type": "code",
      "source": [
        "def batch_gd(model, criterion, optimizer, scheduler, train_loader, test_loader=None, n_epochs=30, device='cuda'):\n",
        "    # Lists to store training and testing losses, and training and testing accuracies for each epoch\n",
        "    train_losses = []\n",
        "    test_losses = []\n",
        "    train_accuracies = []\n",
        "    test_accuracies = []\n",
        "\n",
        "    for epoch in range(n_epochs):\n",
        "        # Set the model to training mode\n",
        "        model.train()\n",
        "        total_train_loss = 0.0\n",
        "        correct_train = 0\n",
        "        total_train = 0\n",
        "\n",
        "        # Training loop\n",
        "        for inputs, labels in train_loader:\n",
        "            inputs, labels = inputs.to(device), labels.to(device)\n",
        "            optimizer.zero_grad()\n",
        "            outputs = model(inputs)\n",
        "            loss = criterion(outputs, labels)\n",
        "            loss.backward(retain_graph=True)\n",
        "            optimizer.step()\n",
        "\n",
        "            total_train_loss += loss.item()\n",
        "            _, predicted = torch.max(outputs, 1)\n",
        "            total_train += labels.size(0)\n",
        "            correct_train += (predicted == labels).sum().item()\n",
        "\n",
        "        # Calculate training accuracy and store results\n",
        "        train_accuracy = correct_train / total_train\n",
        "        train_losses.append(total_train_loss / len(train_loader))\n",
        "        train_accuracies.append(train_accuracy)\n",
        "\n",
        "        if test_loader is not None:\n",
        "            # Set the model to evaluation mode\n",
        "            model.eval()\n",
        "            with torch.no_grad():\n",
        "                correct = 0\n",
        "                total = 0\n",
        "                total_test_loss = 0.0\n",
        "                correct_test = 0\n",
        "                total_test = 0\n",
        "\n",
        "                # Testing loop\n",
        "                for inputs, labels in test_loader:\n",
        "                    inputs, labels = inputs.to(device), labels.to(device)\n",
        "                    outputs = model(inputs)\n",
        "                    loss = criterion(outputs, labels)\n",
        "                    total_test_loss += loss.item()\n",
        "\n",
        "\n",
        "                    _, predicted = torch.max(outputs, 1)\n",
        "\n",
        "                    # Handle one-hot encoded labels\n",
        "                    if len(labels.size()) > 1 and labels.size(1) > 1:\n",
        "                        labels = torch.argmax(labels, dim=1)\n",
        "\n",
        "                    total_test += labels.size(0)\n",
        "                    correct_test += (predicted == labels).sum().item()\n",
        "\n",
        "                # Calculate testing accuracy and store results\n",
        "                test_accuracy = correct_test / total_test\n",
        "                test_losses.append(total_test_loss / len(test_loader))\n",
        "                test_accuracies.append(test_accuracy)\n",
        "\n",
        "                # Print test accuracy at the end of every 5 epochs\n",
        "                if (epoch + 1) % 5 == 0:\n",
        "                    print(f'Epoch {epoch + 1}/{n_epochs} - Test Accuracy: {test_accuracy:.4f}')\n",
        "\n",
        "        scheduler.step(train_accuracy)\n",
        "\n",
        "\n",
        "    return train_losses, test_losses, train_accuracies, test_accuracies"
      ],
      "metadata": {
        "id": "uR8qljSC8pOF"
      },
      "execution_count": 10,
      "outputs": []
    },
    {
      "cell_type": "markdown",
      "source": [
        "Η παρακάτω συνάρτηση χρησιμοποιήθηκε για cross-validation του μοντέλου κατά το tuning\n",
        "\n",
        "\n"
      ],
      "metadata": {
        "id": "v7v2Fx1R6Xwu"
      }
    },
    {
      "cell_type": "code",
      "execution_count": 11,
      "metadata": {
        "id": "9NZFPSb_vnpA"
      },
      "outputs": [],
      "source": [
        "def custom_cv(X, y, device, hid1, hid2, hid3, drop1, drop2, splits=5):\n",
        "    # Shuffle the data indices\n",
        "    np.random.seed(42)\n",
        "    indices = np.random.permutation(len(X))\n",
        "    X = X[indices]\n",
        "    y = y[indices]\n",
        "\n",
        "    # Lists to store test accuracies for each fold\n",
        "    test_accuracies=[]\n",
        "\n",
        "    # Calculate fold size\n",
        "    fold_size = len(X) // splits\n",
        "\n",
        "    for fold in range(splits):\n",
        "        print(f\"Fold {fold + 1}/{splits}\")\n",
        "\n",
        "        # Calculate start and end indices for the current fold\n",
        "        start_idx = fold * fold_size\n",
        "        end_idx = start_idx + fold_size\n",
        "\n",
        "        X_train, X_test = np.concatenate([X[:start_idx], X[end_idx:]]), X[start_idx:end_idx]\n",
        "        y_train, y_test = np.concatenate([y[:start_idx], y[end_idx:]]), y[start_idx:end_idx]\n",
        "\n",
        "        label_encoder = LabelEncoder()\n",
        "        y_train_encoded = label_encoder.fit_transform(y_train)\n",
        "        y_test_encoded = label_encoder.transform(y_test)\n",
        "\n",
        "        # Convert data to PyTorch tensors and create the dataLoaders\n",
        "        X_train_tensor = torch.tensor(X_train, dtype=torch.float32).to(device)\n",
        "        y_train_tensor = torch.tensor(y_train_encoded).to(device)\n",
        "        X_test_tensor = torch.tensor(X_test, dtype=torch.float32).to(device)\n",
        "        y_test_tensor = torch.tensor(y_test_encoded).to(device)\n",
        "\n",
        "        input_size = 20\n",
        "        X_train_tensor = X_train_tensor.view(-1, 1, input_size, input_size)\n",
        "        X_test_tensor = X_test_tensor.view(-1, 1, input_size, input_size)\n",
        "\n",
        "        num_classes = len(np.unique(y_train))\n",
        "        train_loader = DataLoader(TensorDataset(X_train_tensor, y_train_tensor), batch_size=32, shuffle=True)\n",
        "        test_loader = DataLoader(TensorDataset(X_test_tensor, y_test_tensor), batch_size=32, shuffle=False)\n",
        "\n",
        "        # Initialize the CNN model\n",
        "        model = SimpleCNN(hidden_size1=hid1, hidden_size2=hid2, hidden_size3=hid3, drop1=drop1, drop2=drop2)\n",
        "        model=model.to(device)\n",
        "\n",
        "        optimizer = torch.optim.Adam(model.parameters(), lr=0.001)\n",
        "        criterion = nn.CrossEntropyLoss()\n",
        "        scheduler = optim.lr_scheduler.ReduceLROnPlateau(optimizer, patience=3, factor=0.1)\n",
        "\n",
        "        # Train the model using batch_gd function\n",
        "        batch_gd(model, criterion, optimizer, scheduler, train_loader, test_loader, n_epochs=30, device=device)\n",
        "        model.eval()\n",
        "\n",
        "        # Evaluate the model on the test set\n",
        "        test_accuracy=[]\n",
        "        with torch.no_grad():\n",
        "          correct = 0\n",
        "          total = 0\n",
        "\n",
        "          for inputs, labels in test_loader:\n",
        "              inputs, labels = inputs.to(device), labels.to(device)\n",
        "\n",
        "              if len(labels.size()) > 1 and labels.size(1) > 1:\n",
        "                  labels = torch.argmax(labels, dim=1)\n",
        "\n",
        "              outputs = model(inputs)\n",
        "              _, predicted = torch.max(outputs, 1)\n",
        "\n",
        "              total += labels.size(0)\n",
        "              correct += (predicted == labels).sum().item()\n",
        "\n",
        "          test_accuracy.append(correct / total)\n",
        "\n",
        "          test_accuracies.append(np.mean(test_accuracy, axis=0))\n",
        "\n",
        "    return test_accuracies"
      ]
    },
    {
      "cell_type": "markdown",
      "source": [
        "# Results"
      ],
      "metadata": {
        "id": "0q6gX1fW9Dbg"
      }
    },
    {
      "cell_type": "markdown",
      "source": [
        "Εκπαίδευση του μοντέλου, προβολή διαγραμμάτων και έλεγχος στο test set"
      ],
      "metadata": {
        "id": "iw_LnG7Xd9pm"
      }
    },
    {
      "cell_type": "code",
      "execution_count": null,
      "metadata": {
        "id": "QNRmH7WBte6m"
      },
      "outputs": [],
      "source": [
        "t0 = datetime.now()\n",
        "train_losses, test_losses, train_accuracies, test_accuracies = batch_gd(model, criterion, optimizer, scheduler, train_loader, test_loader, n_epochs=45, device=device)\n",
        "print(f\"Elapsed Time: {(datetime.now() - t0).total_seconds():.3f} seconds\")\n",
        "\n",
        "#Plot the model loss and accuracy in every epoch\n",
        "plt.figure(figsize=(10, 5))\n",
        "#Losses\n",
        "plt.subplot(1, 2, 1)\n",
        "plt.plot(train_losses, label='Train Loss')\n",
        "plt.plot(test_losses, label='Test Loss')\n",
        "plt.legend()\n",
        "plt.title('Losses')\n",
        "plt.xlabel('Epochs')\n",
        "plt.ylabel('Loss')\n",
        "plt.grid(True)\n",
        "#Accuracy\n",
        "plt.subplot(1, 2, 2)\n",
        "plt.plot(train_accuracies, label='Train Accuracy')\n",
        "plt.plot(test_accuracies, label='Test Accuracy')\n",
        "plt.legend()\n",
        "plt.title('Accuracies')\n",
        "plt.xlabel('Epochs')\n",
        "plt.ylabel('Accuracy')\n",
        "plt.grid(True)\n",
        "plt.show()\n",
        "\n",
        "model.eval()\n",
        "with torch.no_grad():\n",
        "    correct = 0\n",
        "    total = 0\n",
        "    for inputs, labels in test_loader:\n",
        "        inputs, labels = inputs.to(device), labels.to(device)\n",
        "        outputs = model(inputs)\n",
        "        _, predicted = torch.max(outputs, 1)\n",
        "        total += labels.size(0)\n",
        "        correct += (predicted == labels).sum().item()\n",
        "\n",
        "    test_accuracy = correct / total\n",
        "    print(f'Total Accuracy: {test_accuracy:.4f}')"
      ]
    },
    {
      "cell_type": "markdown",
      "source": [
        "Ακρίβεια με Cross-Validation"
      ],
      "metadata": {
        "id": "zz4yH8l-tisZ"
      }
    },
    {
      "cell_type": "code",
      "source": [
        "test_accuracies=custom_cv(X, y, device=device, splits=20, hid1=256, hid2=512, hid3=128, drop1=0.2, drop2=0.2)\n",
        "print(\"Cross-Validation Accuracy: \", np.mean(test_accuracies))"
      ],
      "metadata": {
        "id": "94jqMFwJeMGf"
      },
      "execution_count": null,
      "outputs": []
    },
    {
      "cell_type": "markdown",
      "source": [
        "Γίνεται tuning στο μοντέλο για να επιλεγούν οι κατάλληλοι υπερπαράμετροι"
      ],
      "metadata": {
        "id": "P0flVa5HPsfB"
      }
    },
    {
      "cell_type": "code",
      "execution_count": null,
      "metadata": {
        "id": "k67sp6oiGSvc"
      },
      "outputs": [],
      "source": [
        "hidden1=[128,256, 512, 1024]\n",
        "hidden2=[128,256, 512, 1024]\n",
        "hidden3=[128, 256, 512, 1024]\n",
        "dropout1=[0.2, 0.3, 0.4]\n",
        "dropout2=[0.0, 0.1, 0.2, 0.3]\n",
        "for hid1 in hidden1:\n",
        "  for hid2 in hidden2:\n",
        "    for hid3 in hidden3:\n",
        "      for drop1 in dropout1:\n",
        "        for drop2 in dropout2:\n",
        "          print(hid1, hid2, hid3, drop1, drop2)\n",
        "          test_accuracies=custom_cv(X, y, device=device, splits=6, hid1=hid1, hid2=hid2, hid3=hid3, drop1=drop1, drop2=drop2)\n",
        "          print(np.mean(test_accuracies))"
      ]
    },
    {
      "cell_type": "markdown",
      "source": [
        "# Ensemble Model"
      ],
      "metadata": {
        "id": "y_1OPsoiw2AP"
      }
    },
    {
      "cell_type": "code",
      "source": [
        "def majority_vote(predictions, num_classes=5):\n",
        "    # Initialize vote counts for each class\n",
        "    class_votes = [0] * num_classes\n",
        "\n",
        "    # Count votes from each model\n",
        "    for prediction in predictions:\n",
        "        predicted_class = np.argmax(prediction)\n",
        "        class_votes[predicted_class] += 1\n",
        "\n",
        "    # Select the class with the most votes\n",
        "    final_prediction = np.argmax(class_votes)\n",
        "    return final_prediction"
      ],
      "metadata": {
        "id": "otBp_IaOxBvN"
      },
      "execution_count": 12,
      "outputs": []
    },
    {
      "cell_type": "code",
      "source": [
        "t0=datetime.now()\n",
        "models = []\n",
        "\n",
        "# Training 30 models\n",
        "for i in range(30):\n",
        "    print(\"----------Model\", (i+1), \"----------\")\n",
        "\n",
        "    model = SimpleCNN(hidden_size1=256, hidden_size2=512, hidden_size3=128, drop1=0.2, drop2=0.2)  # Create and compile your CNN model\n",
        "    model=model.to(device)\n",
        "\n",
        "    optimizer = optim.Adam(model.parameters(), lr=0.001)\n",
        "    criterion = nn.CrossEntropyLoss()\n",
        "    scheduler = optim.lr_scheduler.ReduceLROnPlateau(optimizer, patience=5, factor=0.2, min_lr=1e-7, verbose=False)\n",
        "\n",
        "    batch_gd(model, criterion, optimizer, scheduler, train_loader, n_epochs=45, device=device)\n",
        "\n",
        "    models.append(model)\n",
        "    model.eval()\n",
        "print(f\"Elapsed Time: {(datetime.now() - t0).total_seconds():.3f} seconds\")\n"
      ],
      "metadata": {
        "id": "mfFIbm7svgJW",
        "colab": {
          "base_uri": "https://localhost:8080/"
        },
        "outputId": "e966bf48-9be2-4a73-e415-aac8fca1d368"
      },
      "execution_count": 14,
      "outputs": [
        {
          "output_type": "stream",
          "name": "stdout",
          "text": [
            "----------Model 1 ----------\n",
            "----------Model 2 ----------\n",
            "----------Model 3 ----------\n",
            "----------Model 4 ----------\n",
            "----------Model 5 ----------\n",
            "----------Model 6 ----------\n",
            "----------Model 7 ----------\n",
            "----------Model 8 ----------\n",
            "----------Model 9 ----------\n",
            "----------Model 10 ----------\n",
            "----------Model 11 ----------\n",
            "----------Model 12 ----------\n",
            "----------Model 13 ----------\n",
            "----------Model 14 ----------\n",
            "----------Model 15 ----------\n",
            "----------Model 16 ----------\n",
            "----------Model 17 ----------\n",
            "----------Model 18 ----------\n",
            "----------Model 19 ----------\n",
            "----------Model 20 ----------\n",
            "----------Model 21 ----------\n",
            "----------Model 22 ----------\n",
            "----------Model 23 ----------\n",
            "----------Model 24 ----------\n",
            "----------Model 25 ----------\n",
            "----------Model 26 ----------\n",
            "----------Model 27 ----------\n",
            "----------Model 28 ----------\n",
            "----------Model 29 ----------\n",
            "----------Model 30 ----------\n",
            "Elapsed Time: 1153.796 seconds\n"
          ]
        }
      ]
    },
    {
      "cell_type": "markdown",
      "source": [
        "Για να ελέγξουμε το συνενωμένο μοντέλο με train-test split"
      ],
      "metadata": {
        "id": "S1pTlqSRt7VI"
      }
    },
    {
      "cell_type": "code",
      "source": [
        "all_predictions = []\n",
        "\n",
        "# Make predictions using each model\n",
        "with torch.no_grad():\n",
        "    for model in models:\n",
        "        model_predictions = []\n",
        "        for inputs, labels in test_loader:\n",
        "            inputs, labels = inputs.to(device), labels.to(device)\n",
        "            outputs = model(inputs)\n",
        "            _, predicted = torch.max(outputs, 1)\n",
        "            model_predictions.extend(predicted.cpu().numpy())  # Store predictions as a list\n",
        "        all_predictions.append(model_predictions)\n",
        "\n",
        "# Transpose the predictions to have one row per sample\n",
        "all_predictions = list(map(list, zip(*all_predictions)))\n",
        "final_predictions = [max(set(prediction), key=prediction.count) for prediction in all_predictions]\n",
        "\n",
        "# Calculate overall accuracy\n",
        "correct = sum(final_pred == labels.item() for final_pred, labels in zip(final_predictions, y_test_encoded))\n",
        "total = len(y_test_encoded)\n",
        "test_accuracy = correct / total\n",
        "\n",
        "print(f'Total Accuracy: {test_accuracy:.4f}')"
      ],
      "metadata": {
        "colab": {
          "base_uri": "https://localhost:8080/"
        },
        "id": "lCPuxNj6xNDY",
        "outputId": "67afb823-e8cd-47fc-c156-9a762461460f"
      },
      "execution_count": null,
      "outputs": [
        {
          "output_type": "stream",
          "name": "stdout",
          "text": [
            "Total Accuracy: 0.9540\n"
          ]
        }
      ]
    },
    {
      "cell_type": "code",
      "source": [
        "from sklearn.metrics import confusion_matrix\n",
        "import seaborn as sns\n",
        "\n",
        "conf_mat = confusion_matrix(y_test_encoded, final_predictions)\n",
        "\n",
        "# Plot the confusion matrix using seaborn\n",
        "plt.figure(figsize=(10, 8))\n",
        "sns.heatmap(conf_mat, annot=True, fmt='d', cmap='Blues')\n",
        "plt.xlabel('Predicted')\n",
        "plt.ylabel('True')\n",
        "plt.title('Confusion Matrix')\n",
        "plt.show()"
      ],
      "metadata": {
        "id": "ZsL0yFbh0Q1R"
      },
      "execution_count": null,
      "outputs": []
    },
    {
      "cell_type": "markdown",
      "source": [
        "Για να σώσουμε το numpy αρχείο με τις προβλεπόμενες ετικέτες"
      ],
      "metadata": {
        "id": "CsdKrm6ksOiI"
      }
    },
    {
      "cell_type": "code",
      "source": [
        "all_predictions = []\n",
        "\n",
        "# Make predictions using each model for the test set without labels\n",
        "with torch.no_grad():\n",
        "    for model in models:\n",
        "        model_predictions = []\n",
        "        for inputs in test_loader:\n",
        "            inputs = inputs[0].to(device)\n",
        "            outputs = model(inputs)\n",
        "            _, predicted = torch.max(outputs, 1)\n",
        "            model_predictions.extend(predicted.cpu().numpy())  # Store predictions as a list\n",
        "        all_predictions.append(model_predictions)\n",
        "\n",
        "# Transpose the predictions to have one row per sample\n",
        "all_predictions = list(map(list, zip(*all_predictions)))\n",
        "\n",
        "# Create the final predictions for the test set without labels\n",
        "final_predictions = [max(set(prediction), key=prediction.count) for prediction in all_predictions]\n",
        "final_predictions = [pred + 1 for pred in final_predictions]\n",
        "# Save the predictions to a file (labels23.npy)\n",
        "np.save('labels23.npy', final_predictions)\n",
        "print(\"Predictions saved to labels23.npy\")"
      ],
      "metadata": {
        "id": "KTh4S1XLra3Q",
        "colab": {
          "base_uri": "https://localhost:8080/"
        },
        "outputId": "2c567f69-f4f5-4c5b-9d90-10794eb7ca1f"
      },
      "execution_count": 26,
      "outputs": [
        {
          "output_type": "stream",
          "name": "stdout",
          "text": [
            "Predictions saved to labels23.npy\n"
          ]
        }
      ]
    },
    {
      "cell_type": "code",
      "source": [
        "from google.colab import files\n",
        "\n",
        "# Download the file\n",
        "files.download('labels23.npy')"
      ],
      "metadata": {
        "id": "63KCqx621WfT",
        "colab": {
          "base_uri": "https://localhost:8080/",
          "height": 17
        },
        "outputId": "8c1ca548-6b11-4057-9e44-0f7a73e7b58d"
      },
      "execution_count": 27,
      "outputs": [
        {
          "output_type": "display_data",
          "data": {
            "text/plain": [
              "<IPython.core.display.Javascript object>"
            ],
            "application/javascript": [
              "\n",
              "    async function download(id, filename, size) {\n",
              "      if (!google.colab.kernel.accessAllowed) {\n",
              "        return;\n",
              "      }\n",
              "      const div = document.createElement('div');\n",
              "      const label = document.createElement('label');\n",
              "      label.textContent = `Downloading \"${filename}\": `;\n",
              "      div.appendChild(label);\n",
              "      const progress = document.createElement('progress');\n",
              "      progress.max = size;\n",
              "      div.appendChild(progress);\n",
              "      document.body.appendChild(div);\n",
              "\n",
              "      const buffers = [];\n",
              "      let downloaded = 0;\n",
              "\n",
              "      const channel = await google.colab.kernel.comms.open(id);\n",
              "      // Send a message to notify the kernel that we're ready.\n",
              "      channel.send({})\n",
              "\n",
              "      for await (const message of channel.messages) {\n",
              "        // Send a message to notify the kernel that we're ready.\n",
              "        channel.send({})\n",
              "        if (message.buffers) {\n",
              "          for (const buffer of message.buffers) {\n",
              "            buffers.push(buffer);\n",
              "            downloaded += buffer.byteLength;\n",
              "            progress.value = downloaded;\n",
              "          }\n",
              "        }\n",
              "      }\n",
              "      const blob = new Blob(buffers, {type: 'application/binary'});\n",
              "      const a = document.createElement('a');\n",
              "      a.href = window.URL.createObjectURL(blob);\n",
              "      a.download = filename;\n",
              "      div.appendChild(a);\n",
              "      a.click();\n",
              "      div.remove();\n",
              "    }\n",
              "  "
            ]
          },
          "metadata": {}
        },
        {
          "output_type": "display_data",
          "data": {
            "text/plain": [
              "<IPython.core.display.Javascript object>"
            ],
            "application/javascript": [
              "download(\"download_781ad59a-b5d0-4bdc-bd62-b631be1cc280\", \"labels23.npy\", 8128)"
            ]
          },
          "metadata": {}
        }
      ]
    }
  ],
  "metadata": {
    "accelerator": "GPU",
    "colab": {
      "collapsed_sections": [
        "1sH6jGPR3_e9",
        "2j-d08SN86fq",
        "0q6gX1fW9Dbg"
      ],
      "provenance": [],
      "gpuType": "T4"
    },
    "kernelspec": {
      "display_name": "Python 3",
      "name": "python3"
    },
    "language_info": {
      "name": "python"
    }
  },
  "nbformat": 4,
  "nbformat_minor": 0
}